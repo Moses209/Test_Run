{
 "cells": [
  {
   "cell_type": "code",
   "execution_count": 1,
   "id": "849ff9cd-0f98-4599-94b2-39776591802e",
   "metadata": {},
   "outputs": [
    {
     "data": {
      "text/plain": [
       "8"
      ]
     },
     "execution_count": 1,
     "metadata": {},
     "output_type": "execute_result"
    }
   ],
   "source": [
    "2*2*2"
   ]
  },
  {
   "cell_type": "code",

   "execution_count": 1,

   "id": "67ab6836-4ff8-471f-ae59-17ac702dcac4",
   "metadata": {},
   "outputs": [],
   "source": [

    "def basic_suml(num1,num2):\n",
    "    return num1 + num2"

   ]
  },
  {
   "cell_type": "code",

   "execution_count": 3,
   "id": "b14b2104-e1b6-488d-ba35-b1177911ee3d",
   "metadata": {},
   "outputs": [
    {
     "data": {
      "text/plain": [
       "8"
      ]
     },
     "execution_count": 3,
     "metadata": {},
     "output_type": "execute_result"
    }
   ],
   "source": [
    "basic_suml(3,5)"
   ]

  }
 ],
 "metadata": {
  "kernelspec": {
   "display_name": "Python [conda env:base] *",
   "language": "python",
   "name": "conda-base-py"
  },
  "language_info": {
   "codemirror_mode": {
    "name": "ipython",
    "version": 3
   },
   "file_extension": ".py",
   "mimetype": "text/x-python",
   "name": "python",
   "nbconvert_exporter": "python",
   "pygments_lexer": "ipython3",
   "version": "3.12.7"
  }
 },
 "nbformat": 4,
 "nbformat_minor": 5
}
